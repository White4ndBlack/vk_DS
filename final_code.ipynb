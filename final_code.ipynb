{
 "cells": [
  {
   "cell_type": "markdown",
   "metadata": {},
   "source": [
    "# Бинарная классификация временных рядов при помощи LSTM"
   ]
  },
  {
   "cell_type": "markdown",
   "metadata": {},
   "source": [
    "## Импорт необходимых библиотек"
   ]
  },
  {
   "cell_type": "code",
   "execution_count": 56,
   "metadata": {},
   "outputs": [],
   "source": [
    "import pandas as pd\n",
    "import numpy as np\n",
    "import matplotlib.pyplot as plt\n",
    "import seaborn as sns\n",
    "import datetime\n",
    "\n",
    "from sklearn.model_selection import train_test_split\n",
    "from sklearn.preprocessing import StandardScaler\n",
    "from sklearn.metrics import (\n",
    "    accuracy_score,\n",
    "    classification_report,\n",
    "    roc_curve,\n",
    "    roc_auc_score,\n",
    "    precision_recall_curve,\n",
    "    average_precision_score,\n",
    "    f1_score\n",
    ")\n",
    "from sklearn.utils.class_weight import compute_class_weight\n",
    "\n",
    "import torch\n",
    "import torch.nn as nn\n",
    "from torch.utils.data import Dataset, DataLoader\n",
    "from torch.optim.lr_scheduler import ReduceLROnPlateau\n",
    "\n",
    "import warnings\n",
    "warnings.filterwarnings('ignore')\n"
   ]
  },
  {
   "cell_type": "code",
   "execution_count": 57,
   "metadata": {},
   "outputs": [],
   "source": [
    "test = pd.read_parquet(\"test.parquet\")\n",
    "submission = pd.read_csv('submission.csv')"
   ]
  },
  {
   "cell_type": "markdown",
   "metadata": {},
   "source": [
    "## Обработка признаков"
   ]
  },
  {
   "cell_type": "code",
   "execution_count": 58,
   "metadata": {},
   "outputs": [],
   "source": [
    "# Заполнение NaN в 'values' нулями\n",
    "test['values'] = test['values'].apply(lambda x: [0.0 if pd.isnull(v) else v for v in x])\n",
    "\n",
    "# Создание маски: 1 если значение присутствует, 0 если заполнено (0.0)\n",
    "test['mask'] = test['values'].apply(lambda x: [0 if v == 0.0 else 1 for v in x])"
   ]
  },
  {
   "cell_type": "code",
   "execution_count": 59,
   "metadata": {},
   "outputs": [],
   "source": [
    "# Функция для преобразования дат в временные метки\n",
    "def convert_dates_to_timestamps(dates_array):\n",
    "    if isinstance(dates_array, np.ndarray):\n",
    "        dates_list = dates_array.tolist()\n",
    "    else:\n",
    "        dates_list = dates_array\n",
    "\n",
    "    timestamps = []\n",
    "    for date_item in dates_list:\n",
    "        if isinstance(date_item, datetime.date) and not isinstance(date_item, datetime.datetime):\n",
    "            date_obj = datetime.datetime.combine(date_item, datetime.time())\n",
    "        elif isinstance(date_item, datetime.datetime):\n",
    "            date_obj = date_item\n",
    "        elif isinstance(date_item, str):\n",
    "            try:\n",
    "                date_obj = datetime.datetime.strptime(date_item, '%Y-%m-%d')\n",
    "            except ValueError:\n",
    "                date_obj = pd.to_datetime(date_item, errors='coerce').to_pydatetime()\n",
    "                if pd.isnull(date_obj):\n",
    "                    raise ValueError(f\"Не удалось преобразовать строку в дату: {date_item}\")\n",
    "        else:\n",
    "            raise ValueError(f\"Неизвестный формат даты: {date_item} (тип {type(date_item)})\")\n",
    "        timestamp = date_obj.timestamp()\n",
    "        timestamps.append(timestamp)\n",
    "    return timestamps\n"
   ]
  },
  {
   "cell_type": "code",
   "execution_count": 60,
   "metadata": {},
   "outputs": [],
   "source": [
    "# Применение функции к столбцу 'dates'\n",
    "test['timestamps'] = test['dates'].apply(convert_dates_to_timestamps)"
   ]
  },
  {
   "cell_type": "code",
   "execution_count": 61,
   "metadata": {},
   "outputs": [],
   "source": [
    "# Объединение значений, временных меток и маски\n",
    "def combine_features(row):\n",
    "    values = row['values']\n",
    "    timestamps = row['timestamps']\n",
    "    mask = row['mask']\n",
    "\n",
    "    combined = [[v, t, m] for v, t, m in zip(values, timestamps, mask)]\n",
    "    return combined"
   ]
  },
  {
   "cell_type": "code",
   "execution_count": 62,
   "metadata": {},
   "outputs": [],
   "source": [
    "test['combined'] = test.apply(combine_features, axis=1)"
   ]
  },
  {
   "cell_type": "code",
   "execution_count": 63,
   "metadata": {},
   "outputs": [],
   "source": [
    "# Создание списков входных данных\n",
    "X = test['combined'].tolist()"
   ]
  },
  {
   "cell_type": "code",
   "execution_count": 64,
   "metadata": {},
   "outputs": [
    {
     "data": {
      "text/html": [
       "<style>#sk-container-id-2 {color: black;background-color: white;}#sk-container-id-2 pre{padding: 0;}#sk-container-id-2 div.sk-toggleable {background-color: white;}#sk-container-id-2 label.sk-toggleable__label {cursor: pointer;display: block;width: 100%;margin-bottom: 0;padding: 0.3em;box-sizing: border-box;text-align: center;}#sk-container-id-2 label.sk-toggleable__label-arrow:before {content: \"▸\";float: left;margin-right: 0.25em;color: #696969;}#sk-container-id-2 label.sk-toggleable__label-arrow:hover:before {color: black;}#sk-container-id-2 div.sk-estimator:hover label.sk-toggleable__label-arrow:before {color: black;}#sk-container-id-2 div.sk-toggleable__content {max-height: 0;max-width: 0;overflow: hidden;text-align: left;background-color: #f0f8ff;}#sk-container-id-2 div.sk-toggleable__content pre {margin: 0.2em;color: black;border-radius: 0.25em;background-color: #f0f8ff;}#sk-container-id-2 input.sk-toggleable__control:checked~div.sk-toggleable__content {max-height: 200px;max-width: 100%;overflow: auto;}#sk-container-id-2 input.sk-toggleable__control:checked~label.sk-toggleable__label-arrow:before {content: \"▾\";}#sk-container-id-2 div.sk-estimator input.sk-toggleable__control:checked~label.sk-toggleable__label {background-color: #d4ebff;}#sk-container-id-2 div.sk-label input.sk-toggleable__control:checked~label.sk-toggleable__label {background-color: #d4ebff;}#sk-container-id-2 input.sk-hidden--visually {border: 0;clip: rect(1px 1px 1px 1px);clip: rect(1px, 1px, 1px, 1px);height: 1px;margin: -1px;overflow: hidden;padding: 0;position: absolute;width: 1px;}#sk-container-id-2 div.sk-estimator {font-family: monospace;background-color: #f0f8ff;border: 1px dotted black;border-radius: 0.25em;box-sizing: border-box;margin-bottom: 0.5em;}#sk-container-id-2 div.sk-estimator:hover {background-color: #d4ebff;}#sk-container-id-2 div.sk-parallel-item::after {content: \"\";width: 100%;border-bottom: 1px solid gray;flex-grow: 1;}#sk-container-id-2 div.sk-label:hover label.sk-toggleable__label {background-color: #d4ebff;}#sk-container-id-2 div.sk-serial::before {content: \"\";position: absolute;border-left: 1px solid gray;box-sizing: border-box;top: 0;bottom: 0;left: 50%;z-index: 0;}#sk-container-id-2 div.sk-serial {display: flex;flex-direction: column;align-items: center;background-color: white;padding-right: 0.2em;padding-left: 0.2em;position: relative;}#sk-container-id-2 div.sk-item {position: relative;z-index: 1;}#sk-container-id-2 div.sk-parallel {display: flex;align-items: stretch;justify-content: center;background-color: white;position: relative;}#sk-container-id-2 div.sk-item::before, #sk-container-id-2 div.sk-parallel-item::before {content: \"\";position: absolute;border-left: 1px solid gray;box-sizing: border-box;top: 0;bottom: 0;left: 50%;z-index: -1;}#sk-container-id-2 div.sk-parallel-item {display: flex;flex-direction: column;z-index: 1;position: relative;background-color: white;}#sk-container-id-2 div.sk-parallel-item:first-child::after {align-self: flex-end;width: 50%;}#sk-container-id-2 div.sk-parallel-item:last-child::after {align-self: flex-start;width: 50%;}#sk-container-id-2 div.sk-parallel-item:only-child::after {width: 0;}#sk-container-id-2 div.sk-dashed-wrapped {border: 1px dashed gray;margin: 0 0.4em 0.5em 0.4em;box-sizing: border-box;padding-bottom: 0.4em;background-color: white;}#sk-container-id-2 div.sk-label label {font-family: monospace;font-weight: bold;display: inline-block;line-height: 1.2em;}#sk-container-id-2 div.sk-label-container {text-align: center;}#sk-container-id-2 div.sk-container {/* jupyter's `normalize.less` sets `[hidden] { display: none; }` but bootstrap.min.css set `[hidden] { display: none !important; }` so we also need the `!important` here to be able to override the default hidden behavior on the sphinx rendered scikit-learn.org. See: https://github.com/scikit-learn/scikit-learn/issues/21755 */display: inline-block !important;position: relative;}#sk-container-id-2 div.sk-text-repr-fallback {display: none;}</style><div id=\"sk-container-id-2\" class=\"sk-top-container\"><div class=\"sk-text-repr-fallback\"><pre>StandardScaler()</pre><b>In a Jupyter environment, please rerun this cell to show the HTML representation or trust the notebook. <br />On GitHub, the HTML representation is unable to render, please try loading this page with nbviewer.org.</b></div><div class=\"sk-container\" hidden><div class=\"sk-item\"><div class=\"sk-estimator sk-toggleable\"><input class=\"sk-toggleable__control sk-hidden--visually\" id=\"sk-estimator-id-2\" type=\"checkbox\" checked><label for=\"sk-estimator-id-2\" class=\"sk-toggleable__label sk-toggleable__label-arrow\">StandardScaler</label><div class=\"sk-toggleable__content\"><pre>StandardScaler()</pre></div></div></div></div></div>"
      ],
      "text/plain": [
       "StandardScaler()"
      ]
     },
     "execution_count": 64,
     "metadata": {},
     "output_type": "execute_result"
    }
   ],
   "source": [
    "# Находим максимальную длину последовательностей\n",
    "max_len = max(len(seq) for seq in X)\n",
    "\n",
    "# Собираем все значения и временные метки для масштабирования\n",
    "all_values = [value for seq in X for value, _, _ in seq]\n",
    "all_timestamps = [timestamp for seq in X for _, timestamp, _ in seq]\n",
    "\n",
    "# Масштабирование\n",
    "scaler_values = StandardScaler()\n",
    "scaler_values.fit(np.array(all_values).reshape(-1, 1))\n",
    "\n",
    "scaler_timestamps = StandardScaler()\n",
    "scaler_timestamps.fit(np.array(all_timestamps).reshape(-1, 1))\n",
    "\n",
    "\n"
   ]
  },
  {
   "cell_type": "code",
   "execution_count": 65,
   "metadata": {},
   "outputs": [],
   "source": [
    "# Функция для масштабирования последовательностей\n",
    "def scale_sequence(sequence, scaler_values, scaler_timestamps):\n",
    "    values = [item[0] for item in sequence]\n",
    "    timestamps = [item[1] for item in sequence]\n",
    "    mask = [item[2] for item in sequence]\n",
    "\n",
    "    # Масштабирование значений и временных меток\n",
    "    values_scaled = scaler_values.transform(np.array(values).reshape(-1, 1)).flatten()\n",
    "    timestamps_scaled = scaler_timestamps.transform(np.array(timestamps).reshape(-1, 1)).flatten()\n",
    "\n",
    "    return [[v, t, m] for v, t, m in zip(values_scaled, timestamps_scaled, mask)]"
   ]
  },
  {
   "cell_type": "code",
   "execution_count": 66,
   "metadata": {},
   "outputs": [],
   "source": [
    "# Применение масштабирования к X\n",
    "X_scaled = [scale_sequence(seq, scaler_values, scaler_timestamps) for seq in X]"
   ]
  },
  {
   "cell_type": "code",
   "execution_count": 67,
   "metadata": {},
   "outputs": [],
   "source": [
    "\n",
    "def pad_sequences_pytorch(sequences, max_len, pad_value=0.0):\n",
    "    padded_sequences = []\n",
    "    lengths = []\n",
    "    for seq in sequences:\n",
    "        seq_len = len(seq)\n",
    "        lengths.append(seq_len)\n",
    "        if seq_len < max_len:\n",
    "            # Дополнение [0.0, 0.0, 0.0] в конце\n",
    "            padded_seq = seq + [[pad_value, pad_value, 0.0]] * (max_len - seq_len)\n",
    "        else:\n",
    "            padded_seq = seq[:max_len]\n",
    "        padded_sequences.append(padded_seq)\n",
    "    return torch.tensor(padded_sequences, dtype=torch.float32), torch.tensor(lengths, dtype=torch.long)\n",
    "\n"
   ]
  },
  {
   "cell_type": "code",
   "execution_count": 68,
   "metadata": {},
   "outputs": [],
   "source": [
    "# Паддинг последовательностей\n",
    "X_padded, lengths = pad_sequences_pytorch(X_scaled, max_len, pad_value=0.0)"
   ]
  },
  {
   "cell_type": "code",
   "execution_count": 69,
   "metadata": {},
   "outputs": [
    {
     "name": "stdout",
     "output_type": "stream",
     "text": [
      "Форма X_padded: torch.Size([20000, 97, 3])\n",
      "Тип данных X_padded: torch.float32\n",
      "Форма lengths: torch.Size([20000])\n",
      "Тип данных lengths: torch.int64\n"
     ]
    }
   ],
   "source": [
    "print(\"Форма X_padded:\", X_padded.shape)  # (num_samples, max_len, 3)\n",
    "print(\"Тип данных X_padded:\", X_padded.dtype)  # float32\n",
    "\n",
    "print(\"Форма lengths:\", lengths.shape)  # (num_samples,)\n",
    "print(\"Тип данных lengths:\", lengths.dtype)  # long"
   ]
  },
  {
   "cell_type": "code",
   "execution_count": 70,
   "metadata": {},
   "outputs": [],
   "source": [
    "class SequenceDataset(Dataset):\n",
    "    def __init__(self, sequences, lengths, labels=None):\n",
    "        self.sequences = sequences\n",
    "        self.lengths = lengths\n",
    "        self.labels = labels\n",
    "\n",
    "    def __len__(self):\n",
    "        return len(self.sequences)\n",
    "\n",
    "    def __getitem__(self, idx):\n",
    "        if self.labels is not None:\n",
    "            return self.sequences[idx], self.lengths[idx], self.labels[idx]\n",
    "        else:\n",
    "            return self.sequences[idx], self.lengths[idx]  # Возвращаем только данные и длины, если метки отсутствуют"
   ]
  },
  {
   "cell_type": "code",
   "execution_count": 71,
   "metadata": {},
   "outputs": [],
   "source": [
    "test_dataset = SequenceDataset(X_padded, lengths)"
   ]
  },
  {
   "cell_type": "markdown",
   "metadata": {},
   "source": [
    "## Модель"
   ]
  },
  {
   "cell_type": "code",
   "execution_count": 72,
   "metadata": {},
   "outputs": [],
   "source": [
    "class LSTMClassifier(torch.nn.Module):\n",
    "    def __init__(self, input_dim=3, hidden_dim=64, num_layers=1, dropout=0.5):\n",
    "        super(LSTMClassifier, self).__init__()\n",
    "        self.hidden_dim = hidden_dim\n",
    "        self.num_layers = num_layers\n",
    "\n",
    "        self.lstm = torch.nn.LSTM(\n",
    "            input_size=input_dim,\n",
    "            hidden_size=hidden_dim,\n",
    "            num_layers=num_layers,\n",
    "            batch_first=True,\n",
    "            dropout=dropout,\n",
    "            bidirectional=False\n",
    "        )\n",
    "        self.dropout = torch.nn.Dropout(dropout)\n",
    "        self.fc = torch.nn.Linear(hidden_dim, 1)\n",
    "\n",
    "    def forward(self, x, lengths):\n",
    "        packed_input = torch.nn.utils.rnn.pack_padded_sequence(x, lengths.cpu(), batch_first=True, enforce_sorted=False)\n",
    "        packed_output, (hn, cn) = self.lstm(packed_input)\n",
    "        hn = hn[-1]  # Получаем выход последнего слоя LSTM\n",
    "        out = self.dropout(hn)\n",
    "        out = self.fc(out)\n",
    "        return out.squeeze()\n"
   ]
  },
  {
   "cell_type": "code",
   "execution_count": 73,
   "metadata": {},
   "outputs": [
    {
     "data": {
      "text/plain": [
       "LSTMClassifier(\n",
       "  (lstm): LSTM(3, 64, batch_first=True, dropout=0.5)\n",
       "  (dropout): Dropout(p=0.5, inplace=False)\n",
       "  (fc): Linear(in_features=64, out_features=1, bias=True)\n",
       ")"
      ]
     },
     "execution_count": 73,
     "metadata": {},
     "output_type": "execute_result"
    }
   ],
   "source": [
    "# Загрузка сохранённой модели\n",
    "model = LSTMClassifier(input_dim=3, hidden_dim=64, num_layers=1, dropout=0.5)\n",
    "model.load_state_dict(torch.load('best_model.pth'))\n",
    "model.eval()"
   ]
  },
  {
   "cell_type": "code",
   "execution_count": 74,
   "metadata": {},
   "outputs": [],
   "source": [
    "# Использование `test_dataset` для предсказаний\n",
    "test_loader = DataLoader(test_dataset, batch_size=32, shuffle=False)"
   ]
  },
  {
   "cell_type": "code",
   "execution_count": 75,
   "metadata": {},
   "outputs": [],
   "source": [
    "# Выполнение прогнозов с вероятностями\n",
    "all_probabilities = []\n",
    "with torch.no_grad():\n",
    "    for X_batch, lengths_batch in test_loader:\n",
    "        outputs = model(X_batch, lengths_batch)\n",
    "        probabilities = torch.sigmoid(outputs)  # Вероятности для классов\n",
    "        all_probabilities.extend(probabilities.numpy())\n",
    "\n"
   ]
  },
  {
   "cell_type": "code",
   "execution_count": 76,
   "metadata": {},
   "outputs": [
    {
     "name": "stdout",
     "output_type": "stream",
     "text": [
      "Предсказания сохранены в submission.csv\n"
     ]
    }
   ],
   "source": [
    "# Создание DataFrame с исходными индексами и вероятностями\n",
    "submission = pd.DataFrame({\n",
    "    'prediction': all_probabilities\n",
    "}, index=test['id'])  # Используем оригинальные индексы из test_data\n",
    "\n",
    "# Сохранение вероятностей в файл\n",
    "submission.to_csv(\"submission.csv\", index=True)  # Сохраняем с исходными индексами\n",
    "print(\"Предсказания сохранены в submission.csv\")"
   ]
  }
 ],
 "metadata": {
  "kernelspec": {
   "display_name": "base",
   "language": "python",
   "name": "python3"
  },
  "language_info": {
   "codemirror_mode": {
    "name": "ipython",
    "version": 3
   },
   "file_extension": ".py",
   "mimetype": "text/x-python",
   "name": "python",
   "nbconvert_exporter": "python",
   "pygments_lexer": "ipython3",
   "version": "3.11.5"
  }
 },
 "nbformat": 4,
 "nbformat_minor": 2
}
